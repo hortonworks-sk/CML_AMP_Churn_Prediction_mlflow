{
 "cells": [
  {
   "cell_type": "code",
   "execution_count": null,
   "id": "7a1a2829-efb3-44f2-b7f3-ec98061a8b25",
   "metadata": {
    "tags": []
   },
   "outputs": [],
   "source": [
    "from __future__ import print_function\n",
    "import cmlapi\n",
    "from cmlapi.rest import ApiException\n",
    "from pprint import pprint\n",
    "import json, secrets, os, time\n",
    "from datetime import datetime\n",
    "import random\n",
    "import mlflow\n",
    "\n",
    "cml_client = cmlapi.default_client()\n",
    "client=cmlapi.default_client()\n",
    "experiment_name = \"Churn Model Tuning\"\n",
    "username = os.environ[\"PROJECT_OWNER\"]\n",
    "model_name =  os.getenv(\"REGISTERED_MODEL_NAME\") or \"Customer Churn Model Endpoint - MLOps API\""
   ]
  },
  {
   "cell_type": "code",
   "execution_count": null,
   "id": "01ad281c-7954-445c-af0e-b1eeb1c828bf",
   "metadata": {
    "tags": []
   },
   "outputs": [],
   "source": [
    "\n",
    "try : \n",
    "    #List all the experiments in a given project of a certain name\n",
    "    search_filter= { \"name\" : experiment_name}\n",
    "    project_id = os.environ[\"CDSW_PROJECT_ID\"]\n",
    "    search = json.dumps(search_filter)\n",
    "    api_response = cml_client.list_experiments( project_id = project_id , search_filter = search)\n",
    "    assert len(api_response.experiments) == 1\n",
    "    experiment = api_response.experiments[0]\n",
    "    pprint(experiment)\n",
    "    \n",
    "    threshold = 0.71\n",
    "    # we use now MLFlow api to filter the runs for metrics ,since they are not implemented in V2 yet\n",
    "    exp_run_list =mlflow.search_runs(\n",
    "        experiment.id,  \n",
    "#        filter_string=\"metric.test_score < 0.71 and metric.test_score > 0.6\", # filters can also take complex logic like this\n",
    "        filter_string=f\"metric.test_score > {threshold}\",\n",
    "        order_by=[\"metrics.training_score DESC\", \"start_time DESC\"]\n",
    "    )\n",
    "\n",
    "    # lets take the first run with the highest training score above threshold\n",
    "    best_run=exp_run_list.iloc[0]\n",
    "    print(best_run)\n",
    "    \n",
    "except ApiException as e :\n",
    "    print(\"Exception when calling CMLServiceapi -> list experiments: $s\\n\" %e)"
   ]
  },
  {
   "cell_type": "code",
   "execution_count": null,
   "id": "881ed955-ebde-4df9-9bc2-1e8770a06710",
   "metadata": {
    "tags": []
   },
   "outputs": [],
   "source": [
    "\n",
    "def get_best_experiment_run(experiment_name, threshold =0.5, **kwargs): \n",
    "    try : \n",
    "        #List all the experiments in a given project of a certain name\n",
    "        search_filter = {\"name\": experiment_name}\n",
    "        search = json.dumps(search_filter)        \n",
    "        # Let us see if we have Project Id \n",
    "        project_id=\"\"\n",
    "        filter_string=\"\"\n",
    "        \n",
    "        # We will take our current project as default project \n",
    "        if len(kwargs) == 0 :\n",
    "            project_id = os.environ[\"CDSW_PROJECT_ID\"]\n",
    "        \n",
    "        # Project Id and filter string will be overwritten if provided\n",
    "        for key, value in kwargs.items() : \n",
    "            if  key == \"project_id\" :\n",
    "                project_id = kwargs[key]\n",
    "            elif key == \"filter_string\" : \n",
    "                filter_string = kwargs[key]\n",
    "                search = json.dumps(filter_string)\n",
    "        api_response = cml_client.list_experiments( project_id = project_id , search_filter = search)\n",
    "        assert len(api_response.experiments) == 1\n",
    "        experiment = api_response.experiments[0]\n",
    "        pprint(experiment)\n",
    "    except ApiException as e :\n",
    "        print(\"Exception when calling CMLServiceapi -> list experiments: $s\\n\" %e)\n",
    "\n",
    "    try : \n",
    "        # Check if filter_string has been provided if not create our own with the threshold\n",
    "        # filter_string=\"metric.test_score < 0.71 and metric.test_score > 0.6\", # filters can also take multiple criteria like this when passing\n",
    "        if(len(filter_string) == 0):\n",
    "            filter_string = f\"metric.test_score > {threshold}\"\n",
    "            \n",
    "        # we use now MLFlow api to filter the runs for metrics ,since they are not implemented in V2 yet\n",
    "        exp_run_list =mlflow.search_runs(\n",
    "            experiment.id,  \n",
    "\n",
    "            filter_string=filter_string,\n",
    "            order_by=[\"metrics.training_score DESC\", \"start_time DESC\"]\n",
    "        )\n",
    "\n",
    "        # lets take the first run with the highest training score above threshold\n",
    "        best_run=exp_run_list.iloc[0]\n",
    "        print(best_run)\n",
    "        return(best_run)\n",
    "    except Exception as err:\n",
    "        print(f\"Error in Mlflow Experiment search_runs {err=}, {type(err)=}\")\n",
    "        raise\n"
   ]
  },
  {
   "cell_type": "code",
   "execution_count": null,
   "id": "dd57a49d-862f-4d80-86ce-82418702ca20",
   "metadata": {
    "tags": []
   },
   "outputs": [],
   "source": [
    "best_run = get_best_experiment_run(experiment_name=\"Churn Model Tuning\", threshold=0.7)"
   ]
  },
  {
   "cell_type": "code",
   "execution_count": null,
   "id": "41b522ca-633c-4c09-ba66-4cb8b3a1e8cd",
   "metadata": {
    "tags": []
   },
   "outputs": [],
   "source": [
    "\n",
    "# for testing only\n",
    "# project_id = os.environ[\"CDSW_PROJECT_ID\"]\n",
    "# session_id = secrets.token_hex(nbytes=4)"
   ]
  },
  {
   "cell_type": "code",
   "execution_count": null,
   "id": "1546ab5d-a9a4-44aa-9ea4-792476e4b5aa",
   "metadata": {
    "tags": []
   },
   "outputs": [],
   "source": [
    "# model_name = 'churn_model-' + username + \"-\" + session_id # For testing purposes ( use a session id to generate a unique model)\n",
    "model_path = '{0}/model'.format(best_run.artifact_uri)\n",
    "print(model_path)\n",
    "CreateRegisteredModelRequest = {\n",
    "                                \"project_id\": project_id, \n",
    "                                \"experiment_id\" : best_run.experiment_id,\n",
    "                                \"run_id\": best_run.run_id, \n",
    "                                \"model_name\": model_name, \n",
    "                                \"model_path\": model_path, \n",
    "                                \"visibility\": \"PUBLIC\"   }\n",
    "                               \n",
    "print(CreateRegisteredModelRequest)\n",
    "try : \n",
    "    #Register the best performing model either as a new entry in the Model Registry or as a new verion\n",
    "    api_response = cml_client.create_registered_model(CreateRegisteredModelRequest)\n",
    "    # This prints the metadata after we register the model including the model version details\n",
    "    pprint(api_response)\n",
    "except ApiException as e:\n",
    "    print(\"Exception when calling CMLServiceApi->create_registered_model: %s\\n\" % e)\n",
    "    \n",
    "    "
   ]
  },
  {
   "cell_type": "code",
   "execution_count": null,
   "id": "27c7b0a1-f977-402b-bd4a-25ae9f230b37",
   "metadata": {
    "tags": []
   },
   "outputs": [],
   "source": [
    "print(api_response.model_id,\"---\", api_response.model_versions[0].model_version_id, api_response.name)"
   ]
  },
  {
   "cell_type": "code",
   "execution_count": null,
   "id": "08df7763-fe38-4d5c-854a-759445be9d38",
   "metadata": {
    "tags": []
   },
   "outputs": [],
   "source": [
    "# get a list of Registered Models with the name we have chosen! \n",
    "# starting from scratch here, because the deployment could be done by someone else who has not registered the model and all they have is the model\n",
    "#name is picked from the print statement above and assumption is we have had a successful model registration\n",
    "\n",
    "from __future__ import print_function\n",
    "import cmlapi\n",
    "from cmlapi.rest import ApiException\n",
    "from pprint import pprint\n",
    "import json, secrets, os, time\n",
    "from datetime import datetime\n",
    "import random\n",
    "import mlflow\n",
    "\n",
    "cml_client = cmlapi.default_client()\n",
    "\n",
    "\n",
    "try : \n",
    "    #List all the experiments in a given project of a certain name\n",
    "    search_filter= { \"model_name\" : model_name}\n",
    "    \n",
    "    #Uncomment this to test working against multiple versions\n",
    "    project_id = os.environ[\"CDSW_PROJECT_ID\"]\n",
    "    search = json.dumps(search_filter)\n",
    "    registered_model_list = cml_client.list_registered_models( search_filter = search)\n",
    "    pprint(registered_model_list)\n",
    "    # assuming only one model is returned\n",
    "\n",
    "    model_id = registered_model_list.models[0].model_id\n",
    "    print(model_id)\n",
    "    # sort by -version_number gets us a list of models with version number descending first.\n",
    "    registered_model = cml_client.get_registered_model(model_id, sort=\"-version_number\")\n",
    "    pprint(registered_model)\n",
    "\n",
    "    # lets us create 3 model variables #deploy_model_Id and #deploy_version_id\n",
    "    deploy_model_id =registered_model.model_id\n",
    "    deploy_version_id = registered_model.model_versions[0].model_version_id\n",
    "    print(deploy_model_id, deploy_version_id)\n",
    "    \n",
    "except ApiException as e:\n",
    "    print(\"Exception when calling CMLServiceApi->list_registered_models: %s\\n\" % e)    \n"
   ]
  },
  {
   "cell_type": "code",
   "execution_count": null,
   "id": "e488b49a-b67f-4cf9-a338-3fcc082a4a31",
   "metadata": {
    "tags": []
   },
   "outputs": [],
   "source": [
    "\n",
    "def create_model_for_deployment(client, projectId, modelName, modelId, description = \"Churn Model via API\"):\n",
    "    \"\"\"\n",
    "    Method to create a model  for deployment from Model Registry, if a model exists with the same name it wirl \n",
    "    \"\"\"\n",
    "\n",
    "    # first check if the Model with that name exists\n",
    "    search_filter = {\"name\": modelName}\n",
    "    search = json.dumps(search_filter)    \n",
    "\n",
    "    api_response=client.list_all_models(search_filter=search)\n",
    "\n",
    "    if len(api_response.models) != 0 : \n",
    "        print(\"Model with this name already deployed\")\n",
    "        pprint(api_response.models[0])\n",
    "        modelObj = api_response.models[0]\n",
    "    \n",
    "    else :\n",
    "        project_id = os.environ[\"CDSW_PROJECT_ID\"]\n",
    "        CreateModelRequest = {\n",
    "                                \"project_id\": projectId, \n",
    "                                \"name\" : modelName,\n",
    "                                \"description\": description, \n",
    "                                \"disable_authentication\": True,\n",
    "                                \"registered_model_id\": modelId\n",
    "                             }\n",
    "\n",
    "        try:\n",
    "            # Create a model.\n",
    "            api_response = client.create_model(CreateModelRequest, projectId)\n",
    "            pprint(api_response)\n",
    "            modelObj = api_response\n",
    "        except ApiException as e:\n",
    "            print(\"Exception when calling CMLServiceApi->create_model: %s\\n\" % e)\n",
    "            raise\n",
    "        \n",
    "    return modelObj"
   ]
  },
  {
   "cell_type": "code",
   "execution_count": null,
   "id": "3468995f-23c4-49d7-b53e-efa9c57d249a",
   "metadata": {
    "tags": []
   },
   "outputs": [],
   "source": [
    "\n",
    "def create_modelBuild_for_deployment(client, projectId, modelVersionId, modelCreationId):\n",
    "    \"\"\"\n",
    "    Method to create a Model build\n",
    "    \"\"\"\n",
    "    \n",
    "    print(f'model version id:{modelVersionId} and model Creation Id :{modelCreationId}')\n",
    "    \n",
    "    # Create Model Build\n",
    "    CreateModelBuildRequest = {\n",
    "                                \"registered_model_version_id\": modelVersionId, \n",
    "                                \"runtime_identifier\": \"docker.repository.cloudera.com/cloudera/cdsw/ml-runtime-workbench-python3.9-standard:2023.08.2-b8\",\n",
    "                                \"comment\": \"invoking model build\",\n",
    "                                \"model_id\": modelCreationId\n",
    "                              }\n",
    "\n",
    "    try:\n",
    "        # Create a model build.\n",
    "        api_response = client.create_model_build(CreateModelBuildRequest, projectId, modelCreationId)\n",
    "        pprint(api_response)\n",
    "    except ApiException as e:\n",
    "        print(\"Exception when calling CMLServiceApi->create_model_build: %s\\n\" % e)\n",
    "\n",
    "    return api_response"
   ]
  },
  {
   "cell_type": "code",
   "execution_count": null,
   "id": "a41ea194-2184-4653-9834-db64a0c0ca85",
   "metadata": {
    "tags": []
   },
   "outputs": [],
   "source": [
    "import time\n",
    "\n",
    "import os\n",
    "import json\n",
    "import string\n",
    "import cmlapi\n",
    "from src.api import ApiUtility\n",
    "import cdsw\n",
    "import sys\n",
    "from datetime import datetime\n",
    "\n",
    "# lets us get a Handle to API \n",
    "client = cmlapi.default_client()\n",
    "# project_id = os.environ[\"CDSW_PROJECT_ID\"]\n",
    "# projects = client.list_projects(search_filter=json.dumps({\"name\": \"LLM-demo-on-CML\"}))\n",
    "# project = projects.projects[0] # assuming only one project is returned by the above query\n",
    "\n",
    "project_id = os.environ[\"CDSW_PROJECT_ID\"]\n",
    "\n",
    "# create a model request\n",
    "#model_body = cmlapi.CreateModelRequest(project_id=project_id, name=\"Churn Model API Endpoint - API\", description=\"Deploy Churn Model with the API Endpoint\")\n",
    "model = create_model_for_deployment(client = client , projectId = project_id, description=\"Churn Model API Endpoint - API12\",modelName = model_name,modelId=deploy_model_id )"
   ]
  },
  {
   "cell_type": "code",
   "execution_count": null,
   "id": "8fc928c2-433c-48c2-b713-8fcf7e17d3e1",
   "metadata": {
    "tags": []
   },
   "outputs": [],
   "source": [
    "#take the model creation id from the model value above\n",
    "model_build = create_modelBuild_for_deployment(client = client , projectId = project_id, modelVersionId=deploy_version_id, modelCreationId =model.id)\n",
    "# model_build = create_modelBuild_for_deployment(client = client , projectId = project_id, modelVersionId=deploy_version_id, modelCreationId =model.registered_model_id)"
   ]
  },
  {
   "cell_type": "code",
   "execution_count": null,
   "id": "110660b5-ea2c-44be-898c-f19c47e25f14",
   "metadata": {
    "tags": []
   },
   "outputs": [],
   "source": [
    "# create a model request\n",
    "runtime_details='docker.repository.cloudera.com/cloudera/cdsw/ml-runtime-workbench-python3.9-standard:2023.05.2-b7'\n",
    "\n",
    "start_time = datetime.now()\n",
    "print(start_time.strftime(\"%H:%M:%S\"))\n"
   ]
  },
  {
   "cell_type": "code",
   "execution_count": null,
   "id": "a749117b-1481-4484-a0b5-4cc4b67420fe",
   "metadata": {
    "tags": []
   },
   "outputs": [],
   "source": [
    "# # Model is getting Built as a container image\n",
    "# model_build = client.create_model_build(model_build_body, project.id, model.id)\n",
    "while model_build.status not in [\"built\", \"build failed\"]:\n",
    "    print(\"waiting for model to build...\")\n",
    "    time.sleep(10)\n",
    "    model_build = cml_client.get_model_build(project_id ,model.id, model_build.id)\n",
    "    if model_build.status == \"build failed\" :\n",
    "        print(\"model build failed, see UI for more information\")\n",
    "        sys.exit(1)\n",
    "        \n",
    "build_time = datetime.now()   \n",
    "print(f\"Time required for building model (sec): {(build_time - start_time).seconds}\")\n",
    "print(\"model built successfully!\")"
   ]
  },
  {
   "cell_type": "code",
   "execution_count": null,
   "id": "734370ad-20b7-4244-9b46-96e07e440a6e",
   "metadata": {
    "tags": []
   },
   "outputs": [],
   "source": [
    "# Model is getting deployed as a container image\n",
    "model_deployment_body = cmlapi.CreateModelDeploymentRequest(project_id=project_id, model_id=model.id, build_id=model_build.id, cpu=2, memory=4)\n",
    "model_deployment = cml_client.create_model_deployment(model_deployment_body, project_id, model.id, model_build.id)\n",
    "\n",
    "while model_deployment.status not in [\"stopped\", \"failed\", \"deployed\"]:\n",
    "    print(\"waiting for model to deploy...\")\n",
    "    time.sleep(10)\n",
    "    model_deployment = cml_client.get_model_deployment(project_id, model.id, model_build.id, model_deployment.id)\n",
    "\n",
    "curr_time = datetime.now()\n",
    "\n",
    "if model_deployment.status != \"deployed\":\n",
    "    print(\"model deployment failed, see UI for more information\")\n",
    "    sys.exit(1)\n",
    "\n",
    "if model_deployment.status == \"deployed\" :\n",
    "    print(f\"Time required for deploying model (sec): {(curr_time - start_time).seconds}\")\n",
    "print(\"model deployed successfully!\")"
   ]
  },
  {
   "cell_type": "markdown",
   "id": "da0508f7-f01b-4526-b213-16204db9abf0",
   "metadata": {
    "tags": []
   },
   "source": [
    "## Inferencing from the Deployed Model"
   ]
  },
  {
   "cell_type": "code",
   "execution_count": null,
   "id": "f175593d-832c-4397-aaf3-71c7a4514cfd",
   "metadata": {
    "tags": []
   },
   "outputs": [],
   "source": [
    "import os\n",
    "import json\n",
    "import string\n",
    "import cmlapi\n",
    "from src.api import ApiUtility\n",
    "import cdsw\n",
    "\n",
    "# let us try inferencing from this model  for 5 customers with features bewlo\n",
    "model_Input =  {\"inputs\": [[0.0, 0.0, 1.0, 1.0, 58.0, 1.0, 0.0, 2.0, 1.0, 1.0, 1.0, 1.0, 1.0, 1.0, 2.0, 0.0, 1.0, 20.5, 1191.4], [0.0, 0.0, 1.0, 0.0, 50.0, 1.0, 2.0, 0.0, 0.0, 0.0, 2.0, 0.0, 2.0, 2.0, 1.0, 0.0, 0.0, 75.7, 3876.2], [0.0, 0.0, 1.0, 0.0, 55.0, 1.0, 2.0, 0.0, 2.0, 2.0, 2.0, 2.0, 2.0, 2.0, 1.0, 1.0, 2.0, 90.15, 4916.95], [0.0, 0.0, 0.0, 0.0, 16.0, 1.0, 2.0, 1.0, 0.0, 0.0, 2.0, 0.0, 0.0, 2.0, 0.0, 1.0, 2.0, 88.45, 1422.1], [0.0, 0.0, 1.0, 0.0, 8.0, 1.0, 0.0, 1.0, 0.0, 2.0, 2.0, 0.0, 2.0, 2.0, 0.0, 0.0, 2.0, 101.15, 842.9]]}\n",
    "\n",
    "model_name =  os.getenv(\"REGISTERED_MODEL_NAME\") or \"Customer Churn Model Endpoint - MLOps API\"\n",
    "client = cmlapi.default_client()\n",
    "project_id = os.environ[\"CDSW_PROJECT_ID\"]\n",
    "#client.list_models(project_id)\n",
    "\n",
    "# You can use an APIV2-based utility to access the latest model's metadata. For more, explore the src folder\n",
    "apiUtil = ApiUtility()\n",
    "Model_AccessKey = apiUtil.get_latest_deployment_details(model_name=model_name)[\"model_access_key\"]\n",
    "#Deployment_CRN = apiUtil.get_latest_deployment_details(model_name=\"Churn Model API Endpoint - API\")[\"latest_deployment_crn\"]\n",
    "print(Model_AccessKey)"
   ]
  },
  {
   "cell_type": "code",
   "execution_count": null,
   "id": "9e310f55-c816-4ae8-bf8f-295159e0e783",
   "metadata": {
    "tags": []
   },
   "outputs": [],
   "source": [
    "#calling the model\n",
    "response = cdsw.call_model(model_access_key=Model_AccessKey,ipt=model_Input)\n",
    "\n",
    "pprint(response)"
   ]
  },
  {
   "cell_type": "code",
   "execution_count": null,
   "id": "2fdf5124-6444-4afe-8bbf-402c422d8518",
   "metadata": {
    "tags": []
   },
   "outputs": [],
   "source": [
    "%run 8A_register_model.py"
   ]
  },
  {
   "cell_type": "code",
   "execution_count": null,
   "id": "71fdc658-703f-4663-921b-673cc429b8b7",
   "metadata": {
    "tags": []
   },
   "outputs": [],
   "source": [
    "%run 8B_deploy_registered_model.py\n"
   ]
  }
 ],
 "metadata": {
  "kernelspec": {
   "display_name": "Python 3 (ipykernel)",
   "language": "python",
   "name": "python3"
  },
  "language_info": {
   "codemirror_mode": {
    "name": "ipython",
    "version": 3
   },
   "file_extension": ".py",
   "mimetype": "text/x-python",
   "name": "python",
   "nbconvert_exporter": "python",
   "pygments_lexer": "ipython3",
   "version": "3.9.18"
  }
 },
 "nbformat": 4,
 "nbformat_minor": 5
}
